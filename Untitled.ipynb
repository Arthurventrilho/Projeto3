{
 "cells": [
  {
   "cell_type": "code",
   "execution_count": 1,
   "metadata": {},
   "outputs": [],
   "source": [
    "%matplotlib inline\n",
    "\n",
    "from __future__ import print_function\n",
    "import numpy as np\n",
    "import statsmodels.api as sm"
   ]
  },
  {
   "cell_type": "code",
   "execution_count": 5,
   "metadata": {},
   "outputs": [],
   "source": [
    "nsample = 50\n",
    "sig = 0.25\n",
    "x1 = np.linspace(0, 20, nsample)\n",
    "X = np.column_stack((x1, np.sin(x1), (x1-5)**2))\n",
    "X = sm.add_constant(X)\n",
    "beta = [5., 0.5, 0.5, -0.02]\n",
    "y_true = np.dot(X, beta)\n",
    "y = y_true + sig * np.random.normal(size=nsample)"
   ]
  },
  {
   "cell_type": "code",
   "execution_count": 7,
   "metadata": {},
   "outputs": [
    {
     "data": {
      "text/plain": [
       "array([ 4.5       ,  4.98084442,  5.42241818,  5.79747174,  6.08858976,\n",
       "        6.29105242,  6.41361085,  6.47704939,  6.51077074,  6.54796517,\n",
       "        6.62015751,  6.75202765,  6.95735574,  7.23675814,  7.57758613,\n",
       "        7.95600411,  8.34090568,  8.69902434,  9.0003991 ,  9.22329697,\n",
       "        9.35778363,  9.40735561,  9.38836583,  9.32733686,  9.25660331,\n",
       "        9.20899939,  9.21246432,  9.28545197,  9.43389898,  9.65024938,\n",
       "        9.91469599, 10.19843472, 10.46839697, 10.69268271, 10.84580159,\n",
       "       10.91286091, 10.89201244, 10.79475611, 10.64405059, 10.47054122,\n",
       "       10.30752511, 10.1854805 , 10.12705925, 10.14336524, 10.23213001,\n",
       "       10.37808548, 10.55547244, 10.7322727 , 10.87546961, 10.95647263])"
      ]
     },
     "execution_count": 7,
     "metadata": {},
     "output_type": "execute_result"
    }
   ],
   "source": [
    "y_true"
   ]
  },
  {
   "cell_type": "code",
   "execution_count": null,
   "metadata": {},
   "outputs": [],
   "source": []
  }
 ],
 "metadata": {
  "kernelspec": {
   "display_name": "Python 3",
   "language": "python",
   "name": "python3"
  },
  "language_info": {
   "codemirror_mode": {
    "name": "ipython",
    "version": 3
   },
   "file_extension": ".py",
   "mimetype": "text/x-python",
   "name": "python",
   "nbconvert_exporter": "python",
   "pygments_lexer": "ipython3",
   "version": "3.6.5"
  }
 },
 "nbformat": 4,
 "nbformat_minor": 2
}
